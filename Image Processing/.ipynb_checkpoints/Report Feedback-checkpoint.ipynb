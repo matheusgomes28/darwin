{
 "cells": [
  {
   "cell_type": "markdown",
   "metadata": {},
   "source": [
    "## Report Comments\n",
    "\n",
    "- They were very dissapointed. The end was a really bad apparently.\n",
    "- Images at the end were not a good thing.\n",
    "- No time plan in the report. Need a time plan in everything. \n",
    "- Confusing structure. Sort the categories out next time.\n",
    "- Add chapters to th edesign instead of having everything in non-functional part.\n",
    "- Precise references. Order them as they were mentioned in the text, all the fields filled etc.\n",
    "- No website references please. Maybe books and if possible journals. Specially no Youtube videos.\n",
    "- Very informal language, keep scientific report language.\n",
    "\n",
    "<img src=\"images/report.png\"/>"
   ]
  }
 ],
 "metadata": {
  "kernelspec": {
   "display_name": "Python 3",
   "language": "python",
   "name": "python3"
  },
  "language_info": {
   "codemirror_mode": {
    "name": "ipython",
    "version": 3
   },
   "file_extension": ".py",
   "mimetype": "text/x-python",
   "name": "python",
   "nbconvert_exporter": "python",
   "pygments_lexer": "ipython3",
   "version": "3.5.2"
  }
 },
 "nbformat": 4,
 "nbformat_minor": 0
}
