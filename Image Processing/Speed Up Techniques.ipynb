{
 "cells": [
  {
   "cell_type": "markdown",
   "metadata": {
    "deletable": true,
    "editable": true
   },
   "source": [
    "### Fourier Transform Speed Up\n",
    "\n",
    "The Fourier transform algorithm used in both OpenCV and Numpy is the Fast Fourier Transform. I will not go into details, but compared to the naive discrete fourier transform algorithm (DFT), the FFT algorithm is much faster, specially as the size of the image increases.\n",
    "\n",
    "Although FFT is proven to be more efficient than naive DFT, it is still much faster for array sizes of powers of two, three and five. This is due to the underlying symmetry of the FT calculation for real values; the FFT algorithm speeds up the DFT calculation by taking advantage of the complex conjugate symmetry of the FT if the input function is real. \n",
    "\n",
    "#### Padding Up the Image\n",
    "\n",
    "Theoretically, the FFT algorithm would perform optimally if, given an image $I$ the dimensions of the image $(h,w)$ are both powers of two, three or five, i.e $(h,w)=(2^{y_1}3^{y_2}5^{y_3}, 2^{x_1}3^{x_2}5^{x_3})$ for integers $x_i,y_i$. Therefore, the goal is to force the contents of the image into an array of shape $(2^{y_1}3^{y_2}5^{y_3}, 2^{x_1}3^{x_2}5^{x_3})$ by padding the image with zeros on the bottom and right. This zero-padding will not change the contents of the amplitude spectrum of the image, but may affect the phase.\n",
    "\n",
    "The cell below will implement a method of \"forcing\" the image into the optimal array size by padding it with zeros."
   ]
  },
  {
   "cell_type": "code",
   "execution_count": 78,
   "metadata": {
    "collapsed": false,
    "deletable": true,
    "editable": true
   },
   "outputs": [
    {
     "name": "stdout",
     "output_type": "stream",
     "text": [
      "Old dimension: (566,1070)\n",
      "New dimension: (576,1080)\n"
     ]
    }
   ],
   "source": [
    "%matplotlib inline\n",
    "from matplotlib import pyplot as plt\n",
    "import utilities as ut\n",
    "import numpy as np\n",
    "import cv2\n",
    "\n",
    "# Read the image to analyse\n",
    "image = ut.read_image(\"images/Lenna.png\", \"BGR2GRAY\")\n",
    "\n",
    "def optimal_size(n):\n",
    "    \"\"\"\n",
    "    This function will return the next\n",
    "    power of two closest to n.\n",
    "    \"\"\"\n",
    "    \n",
    "    # OpenCV function to determine the optimal\n",
    "    # DFT size. It returns r=(2^p)*(3^q)*(5^z)\n",
    "    # where n<=r. \n",
    "    return cv2.getOptimalDFTSize(n)\n",
    "\n",
    "# Get the number\n",
    "rows, cols = image.shape\n",
    "\n",
    "# Get the new image size \n",
    "nrows, ncols = optimal_size(rows), optimal_size(cols)\n",
    "\n",
    "print(\"Old dimension: (%d,%d)\" % (rows,cols))\n",
    "print(\"New dimension: (%d,%d)\" % (nrows,ncols))"
   ]
  },
  {
   "cell_type": "markdown",
   "metadata": {
    "deletable": true,
    "editable": true
   },
   "source": [
    "#### Comparing the FFT Calculations \n",
    "\n",
    "In the next cell, different methods for calculating the DFT of an image will be compared. The numpy FFT package and OpenCV's own FFT will be compared, using the normal image and the padded image. "
   ]
  },
  {
   "cell_type": "code",
   "execution_count": 79,
   "metadata": {
    "collapsed": false,
    "deletable": true,
    "editable": true
   },
   "outputs": [
    {
     "name": "stdout",
     "output_type": "stream",
     "text": [
      "The slowest run took 8.82 times longer than the fastest. This could mean that an intermediate result is being cached \n",
      "10 loops, best of 3: 22.2 ms per loop\n",
      "1 loops, best of 3: 218 ms per loop\n",
      "10 loops, best of 3: 22.5 ms per loop\n",
      "10 loops, best of 3: 48.1 ms per loop\n"
     ]
    }
   ],
   "source": [
    "def cv_fourier(gray_image):\n",
    "    \"\"\"\n",
    "    FFT calculation with OpenCV's\n",
    "    dft function.\n",
    "    \"\"\"\n",
    "    \n",
    "    # Calculate FFT (amplitude and phase)\n",
    "    dft = cv2.dft(np.float32(image), flags= cv2.DFT_COMPLEX_OUTPUT)\n",
    "\n",
    "    # Shift DFT so frequency 0 is at center\n",
    "    return np.fft.fftshift(dft)\n",
    "\n",
    "def np_fourier(grey_image):\n",
    "    \"\"\"\n",
    "    FFT calculation with Numpy's\n",
    "    fft package.\n",
    "    \"\"\"\n",
    "    \n",
    "    # Calculate FFT (amplitude and phase)\n",
    "    dft = np.fft.fft2(grey_image)\n",
    "\n",
    "    # Shift DFT so frequency 0 is at center\n",
    "    return np.fft.fftshift(dft)\n",
    "\n",
    "# Get the padded image\n",
    "new_image = np.zeros((nrows, ncols))\n",
    "new_image[:rows, :cols] = image\n",
    "\n",
    "# Time the calculations\n",
    "%timeit cv_fourier(image) # Cv fourier with original size image\n",
    "%timeit np_fourier(image) # Np fourier with original size image\n",
    "\n",
    "%timeit cv_fourier(new_image) # Cv fourier with optimal image\n",
    "%timeit np_fourier(new_image) # Np fourier with optimal image"
   ]
  },
  {
   "cell_type": "markdown",
   "metadata": {},
   "source": [
    "From the results above, it can be seen that the OpenCV's FFT outdoes the Numpy's implementation in terms of performance. Although it is reccommended to pad the images with zeros for the performance increase, there has not been a huge improvement in the test done above.\n",
    "\n",
    "With all of this in mind, the fourier transform method used in the file `analysis.py` will be the OpenCV's version, together with the zero padding."
   ]
  }
 ],
 "metadata": {
  "kernelspec": {
   "display_name": "Python 3",
   "language": "python",
   "name": "python3"
  },
  "language_info": {
   "codemirror_mode": {
    "name": "ipython",
    "version": 3
   },
   "file_extension": ".py",
   "mimetype": "text/x-python",
   "name": "python",
   "nbconvert_exporter": "python",
   "pygments_lexer": "ipython3",
   "version": "3.5.2"
  }
 },
 "nbformat": 4,
 "nbformat_minor": 0
}
