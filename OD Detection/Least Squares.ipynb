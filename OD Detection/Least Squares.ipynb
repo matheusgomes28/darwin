{
 "cells": [
  {
   "cell_type": "markdown",
   "metadata": {},
   "source": [
    "### Fitting a Curve to a Set of Points"
   ]
  },
  {
   "cell_type": "markdown",
   "metadata": {},
   "source": [
    "This notebook looks at implementing the least squares algorithm using numpy; to fit a curve to a set of points. This will be used in finding the optic disc in the images. The curve will be fitted to points identified as belonging to the main vessels attached to the optic disc (the points are found using PCA, see the other notebook).\n",
    "\n",
    "Below are some tests on generated data in an x^2 form, with added noise. The function polyfit() works well on this data but cannot be used to fit the vessels as the graph we need will be of x^0.5 form and polyfit() only takes integers as the degree of the curve."
   ]
  },
  {
   "cell_type": "code",
   "execution_count": 1,
   "metadata": {},
   "outputs": [
    {
     "data": {
      "text/plain": [
       "[<matplotlib.lines.Line2D at 0x1c31eb32550>]"
      ]
     },
     "execution_count": 1,
     "metadata": {},
     "output_type": "execute_result"
    },
    {
     "data": {
      "image/png": "[encoded data removed]",
      "text/plain": [
       "<matplotlib.figure.Figure at 0x1c32177f550>"
      ]
     },
     "metadata": {},
     "output_type": "display_data"
    }
   ],
   "source": [
    " # For the plottings in the notebook\n",
    "%matplotlib inline\n",
    "import numpy as np\n",
    "from scipy.optimize import curve_fit\n",
    "\n",
    "# The actual plotting functions are in this module\n",
    "from matplotlib import pyplot as plt\n",
    "\n",
    "# Create the X array (from 0-1, 20 samples)\n",
    "X = np.linspace(0, 1, 20)\n",
    "\n",
    "# Create the Y based on X. equivalent to y=x^2+e,\n",
    "# where e is error from a normal N(0, 0.1)\n",
    "Y = X**2 + np.random.rand(20)*0.1\n",
    "\n",
    "# This is a (2,20), each COL is a vector\n",
    "points = np.vstack((X,Y))\n",
    "\n",
    "# Plot the points\n",
    "plt.plot(X,Y,'mx')"
   ]
  },
  {
   "cell_type": "code",
   "execution_count": 2,
   "metadata": {},
   "outputs": [
    {
     "name": "stdout",
     "output_type": "stream",
     "text": [
      "[-0.1086447   1.01199688]\n"
     ]
    },
    {
     "data": {
      "text/plain": [
       "[<matplotlib.lines.Line2D at 0x1c31f8b0dd8>]"
      ]
     },
     "execution_count": 2,
     "metadata": {},
     "output_type": "execute_result"
    },
    {
     "data": {
      "image/png": "[encoded data removed]",
      "text/plain": [
       "<matplotlib.figure.Figure at 0x1c31f8b0d68>"
      ]
     },
     "metadata": {},
     "output_type": "display_data"
    }
   ],
   "source": [
    "fit = np.polynomial.polynomial.polyfit(X,Y,1)\n",
    "print(fit)\n",
    "\n",
    "new_X = np.linspace(0, 2, 200)\n",
    "Phi = np.vstack((new_X, new_X**2))\n",
    "new_Y = Phi[0,:]*fit[0] + Phi[1,:]*fit[1]\n",
    "plt.plot(new_X, new_Y)\n",
    "plt.plot(X, Y, \"rx\")"
   ]
  },
  {
   "cell_type": "markdown",
   "metadata": {},
   "source": [
    "Here we use curve_fit() instead of polyfit(). Rather than taking in the degree that the fitted curve should be, it takes in the function used to generate the data and uses it to generate the fitted curve also.\n",
    "\n",
    "The data below is made to represented a x^0.5 shape, with noise. The curve then fits well to this using the function described. \n",
    "\n",
    "Our data from the images will not have been generated from a function, but from looking at the datasets it can be seen that the two main vessels and optic disc all fit the same general x^0.5 shape so the function func() below can be used. Obviously with the images the curve will have both positive and negative y values, with (0,0) hopefully being the optic disc. "
   ]
  },
  {
   "cell_type": "code",
   "execution_count": 3,
   "metadata": {},
   "outputs": [
    {
     "data": {
      "text/plain": [
       "[<matplotlib.lines.Line2D at 0x1c322105860>]"
      ]
     },
     "execution_count": 3,
     "metadata": {},
     "output_type": "execute_result"
    },
    {
     "data": {
      "image/png": "[encoded data removed]",
      "text/plain": [
       "<matplotlib.figure.Figure at 0x1c322105fd0>"
      ]
     },
     "metadata": {},
     "output_type": "display_data"
    }
   ],
   "source": [
    "# Attempt to fit square root func\n",
    "samples = 20\n",
    "Xs = np.linspace(0,1,20)\n",
    "noise = np.random.rand(samples)\n",
    "Ys = np.sqrt(Xs) + noise*0.1\n",
    "\n",
    "def func(x, a, b):\n",
    "    return a + b*x**0.5 \n",
    "\n",
    "popt, pcov = curve_fit(func, Xs, Ys)\n",
    "\n",
    "# New Stuff with predicted line\n",
    "new_Xs = np.linspace(0, 1.2, 200)\n",
    "new_Ys = popt[0] + popt[1]*new_Xs**0.5\n",
    "\n",
    "plt.plot(Xs, Ys, \"rx\")\n",
    "plt.plot(new_Xs, new_Ys)"
   ]
  },
  {
   "cell_type": "code",
   "execution_count": null,
   "metadata": {
    "collapsed": true
   },
   "outputs": [],
   "source": []
  }
 ],
 "metadata": {
  "kernelspec": {
   "display_name": "Python 3",
   "language": "python",
   "name": "python3"
  },
  "language_info": {
   "codemirror_mode": {
    "name": "ipython",
    "version": 3
   },
   "file_extension": ".py",
   "mimetype": "text/x-python",
   "name": "python",
   "nbconvert_exporter": "python",
   "pygments_lexer": "ipython3",
   "version": "3.6.1"
  }
 },
 "nbformat": 4,
 "nbformat_minor": 2
}
